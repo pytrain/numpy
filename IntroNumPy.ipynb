{
 "cells": [
  {
   "cell_type": "markdown",
   "metadata": {},
   "source": [
    "![NASA](http://www.nasa.gov/sites/all/themes/custom/nasatwo/images/nasa-logo.svg)\n",
    "\n",
    "<center>\n",
    "<h1><font size=\"+3\">GSFC Python Bootcamp</font></h1>\n",
    "</center>\n",
    "\n",
    "---\n",
    "\n",
    "<CENTER>\n",
    "<H1 style=\"color:red\">\n",
    "Numpy\n",
    "</H1>\n",
    "</CENTER>"
   ]
  },
  {
   "cell_type": "code",
   "execution_count": null,
   "metadata": {},
   "outputs": [],
   "source": [
    "from __future__ import print_function"
   ]
  },
  {
   "cell_type": "markdown",
   "metadata": {},
   "source": [
    "# <font color='red'> Useful References </font>"
   ]
  },
  {
   "cell_type": "markdown",
   "metadata": {},
   "source": [
    "<OL>\n",
    "<LI> <A HREF=\"http://wiki.scipy.org/Tentative_NumPy_Tutorial\">Tentative Numpy Tutorial</A>\n",
    "<LI> <A HREF=\"http://docs.scipy.org/doc/numpy/reference\">NumPy Reference</A>\n",
    "<LI> <A HREF=\"http://mathesaurus.sourceforge.net/matlab-numpy.html\">NumPy for MATLAB Users</A>\n",
    "<LI> <A HREF=\"http://mathesaurus.sourceforge.net/r-numpy.html\">NumPy for R (and S-Plus) Users</A>\n",
    "<LI> <A HREF=\"http://people.duke.edu/~ccc14/pcfb/numerics.html\">NumPy and Matplotlib (Practical Cumputing for Biologists)</A>\n",
    "</OL>"
   ]
  },
  {
   "cell_type": "markdown",
   "metadata": {},
   "source": [
    "#### In case you prefer a video:"
   ]
  },
  {
   "cell_type": "code",
   "execution_count": null,
   "metadata": {},
   "outputs": [],
   "source": [
    "from IPython.display import YouTubeVideo\n",
    "YouTubeVideo(\"3Fp1zn5ao2M\")"
   ]
  },
  {
   "cell_type": "markdown",
   "metadata": {},
   "source": [
    "## <font color='red'> What is Numpy?</font>"
   ]
  },
  {
   "cell_type": "markdown",
   "metadata": {},
   "source": [
    "<UL>\n",
    "<LI> Efficient array computing in Python.\n",
    "<LI> Allows the creation of arrays.\n",
    "<LI> Allows efficient indexing/slicing of arrays\n",
    "<LI> Provides mathematical functions that operate on an entire array.\n",
    "<LI> The critical thing to know is that Python <B> for </B> loops are very slow!\n",
    "     One should try to use array-operations as much as possible.\n",
    "</UL>"
   ]
  },
  {
   "cell_type": "markdown",
   "metadata": {},
   "source": [
    "### <font color='red'> Making Numpy Arrays</font>"
   ]
  },
  {
   "cell_type": "markdown",
   "metadata": {},
   "source": [
    "First we want to import the appropriate modules into our name space (note this is done automatically with the \"--pylab\" flag."
   ]
  },
  {
   "cell_type": "code",
   "execution_count": null,
   "metadata": {},
   "outputs": [],
   "source": [
    "import numpy as np"
   ]
  },
  {
   "cell_type": "markdown",
   "metadata": {},
   "source": [
    "<UL>\n",
    "<LI> The primary building block of the numpy module is the class \"ndarray\". \n",
    "<LI> A ndarray object represents a multidimensional, homogeneous array of fixed-sized items. \n",
    "<LI> An associated date-type object describes the format of each element in the array. \n",
    "<LI> An ndarray object is (almost) never instantiated directly, but instead using a method that returns an instance of the class.\n",
    "</UL>"
   ]
  },
  {
   "cell_type": "code",
   "execution_count": null,
   "metadata": {},
   "outputs": [],
   "source": [
    "## Obtain remote file\n",
    "import urllib.request\n",
    "\n",
    "url = 'https://raw.githubusercontent.com/pytrain/numpy/master/'\n",
    "urllib.request.urlretrieve(url+\"npArray.png\", \"npArray.png\")\n",
    "urllib.request.urlretrieve(url+\"ArraySlicing.png\", \"ArraySlicing.png\")\n",
    "urllib.request.urlretrieve(url+\"Broadcasting.png\", \"Broadcasting.png\")"
   ]
  },
  {
   "cell_type": "code",
   "execution_count": null,
   "metadata": {},
   "outputs": [],
   "source": []
  },
  {
   "cell_type": "markdown",
   "metadata": {},
   "source": [
    "##### Array vs. List"
   ]
  },
  {
   "cell_type": "code",
   "execution_count": null,
   "metadata": {},
   "outputs": [],
   "source": [
    "myList = [1, 2, 3, 5]\n",
    "arr = np.array([1, 2, 3, 5])\n",
    "print(arr)"
   ]
  },
  {
   "cell_type": "markdown",
   "metadata": {},
   "source": [
    "Elements of a one-dimensional array are accessed with the same syntax as a list:"
   ]
  },
  {
   "cell_type": "code",
   "execution_count": null,
   "metadata": {},
   "outputs": [],
   "source": [
    "myList[0]"
   ]
  },
  {
   "cell_type": "code",
   "execution_count": null,
   "metadata": {},
   "outputs": [],
   "source": [
    "arr[0]"
   ]
  },
  {
   "cell_type": "code",
   "execution_count": null,
   "metadata": {},
   "outputs": [],
   "source": [
    "arr[2:]"
   ]
  },
  {
   "cell_type": "markdown",
   "metadata": {},
   "source": [
    "### <font color=\"blue\"> Exercise</font>\n",
    "How do you access the final element in the `arr` array?"
   ]
  },
  {
   "cell_type": "markdown",
   "metadata": {},
   "source": [
    "### <font color='red'> Difference between List and Array </font>"
   ]
  },
  {
   "cell_type": "code",
   "execution_count": null,
   "metadata": {},
   "outputs": [],
   "source": [
    "# We can change the last element of our list \n",
    "myList[-1] ='adding a string'\n",
    "myList"
   ]
  },
  {
   "cell_type": "markdown",
   "metadata": {},
   "source": [
    "But the same can not be done with an array, as we get an error message:"
   ]
  },
  {
   "cell_type": "code",
   "execution_count": null,
   "metadata": {},
   "outputs": [],
   "source": [
    "arr[-1] ='adding a string'"
   ]
  },
  {
   "cell_type": "code",
   "execution_count": null,
   "metadata": {},
   "outputs": [],
   "source": [
    "# Create a 2d array from a list of lists\n",
    "my_list = [[0,1,2], [3,4,5], [6,7,8]]\n",
    "my_arr2d = np.array(my_list)\n",
    "print(my_arr2d)"
   ]
  },
  {
   "cell_type": "markdown",
   "metadata": {},
   "source": [
    "- You may specify the datatype by setting the `dtype` argument. \n",
    "- Some of the most commonly used numpy dtypes are: `float`, `int`, `bool`, `str` and `object`.\n",
    "- To control the memory allocations you may choose to use one of `float32`, `float64`, `int8`, `int16` or `int32`."
   ]
  },
  {
   "cell_type": "code",
   "execution_count": null,
   "metadata": {},
   "outputs": [],
   "source": [
    "# Create a float 2d array\n",
    "my_arr2d_f = np.array(my_list, dtype='float')\n",
    "print(my_arr2d_f)"
   ]
  },
  {
   "cell_type": "code",
   "execution_count": null,
   "metadata": {},
   "outputs": [],
   "source": [
    "# Convert to 'int' datatype\n",
    "a_i = my_arr2d_f.astype('int')\n",
    "print(a_i)"
   ]
  },
  {
   "cell_type": "code",
   "execution_count": null,
   "metadata": {},
   "outputs": [],
   "source": [
    "# Convert to int then to str datatype\n",
    "a_s = my_arr2d_f.astype('int').astype('str')\n",
    "print(a_s)"
   ]
  },
  {
   "cell_type": "markdown",
   "metadata": {},
   "source": [
    "- A numpy array must have all items to be of the same data type, unlike lists. \n",
    "- If you are uncertain about what datatype your array will hold or if you want to hold characters and numbers in the same array, you can set the `dtype` as `object`."
   ]
  },
  {
   "cell_type": "code",
   "execution_count": null,
   "metadata": {},
   "outputs": [],
   "source": [
    "# Create a boolean array\n",
    "my_arr1d_b = np.array([1, 0, 10], dtype='bool')\n",
    "print(my_arr1d_b)"
   ]
  },
  {
   "cell_type": "code",
   "execution_count": null,
   "metadata": {},
   "outputs": [],
   "source": [
    "# Create an object array to hold numbers as well as strings\n",
    "my_arr1d_obj = np.array([1, 'a'], dtype='object')\n",
    "print(my_arr1d_obj)"
   ]
  },
  {
   "cell_type": "markdown",
   "metadata": {},
   "source": [
    "You can always convert an array back to a python list using `tolist()`."
   ]
  },
  {
   "cell_type": "code",
   "execution_count": null,
   "metadata": {},
   "outputs": [],
   "source": [
    "# Convert an array back to a list\n",
    "my_arr1d_obj.tolist()"
   ]
  },
  {
   "cell_type": "markdown",
   "metadata": {},
   "source": [
    "### <--> Important <-->\n",
    "- Numpy arrays are homogeneous (all elements of an array must be of the same type). \n",
    "- Once a Numpy array is created, you cannot increase its **size**. \n",
    "- In contrast, lists can contain elements of arbitrary type.\n",
    "- Numpy arrays support vectorised operations, while lists do not.\n",
    "- An equivalent Numpy array occupies much less space than a Python list.\n"
   ]
  },
  {
   "cell_type": "markdown",
   "metadata": {},
   "source": [
    "###  <font color='red'>Array Memory Representation</font>"
   ]
  },
  {
   "cell_type": "code",
   "execution_count": null,
   "metadata": {},
   "outputs": [],
   "source": [
    "from IPython.core.display import Image \n",
    "Image(filename='npArray.png') "
   ]
  },
  {
   "cell_type": "markdown",
   "metadata": {},
   "source": [
    "Each object has 2 components - a metadata & the raw array data. The metadata describes the details about the array. Each NumPy Array object has a metadata which describes:\n",
    "\n",
    "1. The basic data element’s size in bytes\n",
    "2. The start of the data within the data buffer (an offset relative to the beginning of the data buffer).\n",
    "3. The number of dimensions and the size of each dimension\n",
    "4. The separation between elements for each dimension (the ‘stride’). This does not have to be a multiple of the element size\n",
    "5. The byte order of the data (which may not be the native byte order)\n",
    "6. Whether the buffer is read-only\n",
    "7. Information (via the dtype object) about the interpretation of the basic data element. The basic data element may be as simple as a int or a float, or it may be a compound object (e.g., struct-like), a fixed character field, or Python object pointers.\n",
    "9. Whether the array is to interpreted as C-order or Fortran-order."
   ]
  },
  {
   "cell_type": "markdown",
   "metadata": {},
   "source": [
    "The information about the type of an array is contained in its `dtype` (the size of each item in an array) attribute:"
   ]
  },
  {
   "cell_type": "code",
   "execution_count": null,
   "metadata": {},
   "outputs": [],
   "source": [
    "x = np.array([[1, 2], [3, 4]], dtype=np.uint8)\n",
    "print(x)"
   ]
  },
  {
   "cell_type": "code",
   "execution_count": null,
   "metadata": {},
   "outputs": [],
   "source": [
    "# the memory address of the first byte in the array,\n",
    "x.data"
   ]
  },
  {
   "cell_type": "code",
   "execution_count": null,
   "metadata": {},
   "outputs": [],
   "source": [
    "# Memory address of the data:\n",
    "x.__array_interface__['data'][0]"
   ]
  },
  {
   "cell_type": "code",
   "execution_count": null,
   "metadata": {},
   "outputs": [],
   "source": [
    "x.__array_interface__ "
   ]
  },
  {
   "cell_type": "code",
   "execution_count": null,
   "metadata": {},
   "outputs": [],
   "source": [
    "# Raw data bytes in the array.\n",
    "my_bytes = x.tobytes()\n",
    "[b for b in my_bytes]"
   ]
  },
  {
   "cell_type": "code",
   "execution_count": null,
   "metadata": {},
   "outputs": [],
   "source": [
    "print(my_bytes)\n",
    "new_x = np.frombuffer(my_bytes, dtype=x.dtype).reshape(x.shape)\n",
    "print(\"Array from raw data bytes: \", new_x)"
   ]
  },
  {
   "cell_type": "code",
   "execution_count": null,
   "metadata": {},
   "outputs": [],
   "source": [
    "arr = np.array([10, 20, 123123])\n",
    "arr.dtype"
   ]
  },
  {
   "cell_type": "markdown",
   "metadata": {},
   "source": [
    "Once an array has been created, its `dtype` is fixed and it can only store elements of the same type. <P>\n",
    "For this example where the `dtype` is integer, if we store a floating point number it will be automatically converted into an integer:"
   ]
  },
  {
   "cell_type": "code",
   "execution_count": null,
   "metadata": {},
   "outputs": [],
   "source": [
    "arr[-1] = 1.234\n",
    "arr"
   ]
  },
  {
   "cell_type": "markdown",
   "metadata": {},
   "source": [
    "Why is a homogeneous data type required for arrays? Speed"
   ]
  },
  {
   "cell_type": "code",
   "execution_count": null,
   "metadata": {},
   "outputs": [],
   "source": [
    "n = 50000\n",
    "x = range(n)        # List\n",
    "y = np.arange(n)    # Numpy array"
   ]
  },
  {
   "cell_type": "code",
   "execution_count": null,
   "metadata": {},
   "outputs": [],
   "source": [
    "%timeit [e**2  for e in x]"
   ]
  },
  {
   "cell_type": "code",
   "execution_count": null,
   "metadata": {},
   "outputs": [],
   "source": [
    "%timeit y**2"
   ]
  },
  {
   "cell_type": "markdown",
   "metadata": {},
   "source": [
    "### <font color='red'>Array Creation</font>"
   ]
  },
  {
   "cell_type": "markdown",
   "metadata": {},
   "source": [
    "There are three different ways to create Numpy arrays:\n",
    "\n",
    "* Conversion from other Python structures like lists (see above)\n",
    "* Using Numpy functions\n",
    "* Using special library functions"
   ]
  },
  {
   "cell_type": "markdown",
   "metadata": {},
   "source": [
    "The function `ones` creates an array filled with ones"
   ]
  },
  {
   "cell_type": "code",
   "execution_count": null,
   "metadata": {},
   "outputs": [],
   "source": [
    "b = np.ones((3,2))\n",
    "print(b)\n",
    "print(b.shape)"
   ]
  },
  {
   "cell_type": "markdown",
   "metadata": {},
   "source": [
    "The function `zeros` an array filled with zeros."
   ]
  },
  {
   "cell_type": "code",
   "execution_count": null,
   "metadata": {},
   "outputs": [],
   "source": [
    "# integer values\n",
    "c = np.zeros((1,3), int)\n",
    "print(c)\n",
    "print(type(c))\n",
    "print(c.dtype)"
   ]
  },
  {
   "cell_type": "code",
   "execution_count": null,
   "metadata": {},
   "outputs": [],
   "source": [
    "# complex numbers\n",
    "d = np.zeros(3, complex)\n",
    "print(d)\n",
    "print(d.dtype)"
   ]
  },
  {
   "cell_type": "markdown",
   "metadata": {},
   "source": [
    "The `eye` function lets you create a `n * n` matrix with the diagonal 1s and the others 0."
   ]
  },
  {
   "cell_type": "code",
   "execution_count": null,
   "metadata": {},
   "outputs": [],
   "source": [
    "a = np.eye(5)\n",
    "print(a)"
   ]
  },
  {
   "cell_type": "markdown",
   "metadata": {},
   "source": [
    "The `empty` function creates an array. Its initial content is random and depends on the state of the memory."
   ]
  },
  {
   "cell_type": "code",
   "execution_count": null,
   "metadata": {},
   "outputs": [],
   "source": [
    "a = np.empty((2,3))\n",
    "print(a)"
   ]
  },
  {
   "cell_type": "markdown",
   "metadata": {},
   "source": [
    "The `full` function creates a `n * n` array filled with the given value."
   ]
  },
  {
   "cell_type": "code",
   "execution_count": null,
   "metadata": {},
   "outputs": [],
   "source": [
    "a = np.full((2,2), 3)\n",
    "print(a)"
   ]
  },
  {
   "cell_type": "markdown",
   "metadata": {},
   "source": [
    "Then there are the linspace and logspace functions to create linearly and logarithmically-spaced grids, respectively, with a fixed number of points and including both ends of the specified interval.<P>\n"
   ]
  },
  {
   "cell_type": "markdown",
   "metadata": {},
   "source": [
    "The function `linspace(a, b, n)` generates `n` uniformly spaced coordinates, starting with `a` and ending with `b`."
   ]
  },
  {
   "cell_type": "code",
   "execution_count": null,
   "metadata": {},
   "outputs": [],
   "source": [
    "x = np.linspace(-5, 5, 11)\n",
    "print(x)"
   ]
  },
  {
   "cell_type": "code",
   "execution_count": null,
   "metadata": {},
   "outputs": [],
   "source": [
    "a = np.r_[-5:5:11j]        # same as linspace(-1, 1, 11)\n",
    "print(a)"
   ]
  },
  {
   "cell_type": "markdown",
   "metadata": {},
   "source": [
    "The function `logspace` rises in a logarithmic scale. Here, the given start value is actually base^start and ends with base^stop, with a default based value of 10."
   ]
  },
  {
   "cell_type": "code",
   "execution_count": null,
   "metadata": {},
   "outputs": [],
   "source": [
    "x = np.logspace(0, 2, 11)\n",
    "print(x)"
   ]
  },
  {
   "cell_type": "markdown",
   "metadata": {},
   "source": [
    "The function `arange` is the Numpy equivalent of `range`.\n",
    "\n",
    "`arange(start, stop, step=1)`"
   ]
  },
  {
   "cell_type": "code",
   "execution_count": null,
   "metadata": {},
   "outputs": [],
   "source": [
    "x = np.arange(-5, 5, 1, float)   # upper limit 5 is not included!!\n",
    "print (x)"
   ]
  },
  {
   "cell_type": "markdown",
   "metadata": {},
   "source": [
    "#### <font color='red'> Example </font>"
   ]
  },
  {
   "cell_type": "code",
   "execution_count": null,
   "metadata": {},
   "outputs": [],
   "source": [
    "n = int(1e6)"
   ]
  },
  {
   "cell_type": "code",
   "execution_count": null,
   "metadata": {},
   "outputs": [],
   "source": [
    "%timeit for i in range(n): i**2"
   ]
  },
  {
   "cell_type": "code",
   "execution_count": null,
   "metadata": {},
   "outputs": [],
   "source": [
    "# Standard way of using arange\n",
    "%timeit for i in np.arange(n): i**2"
   ]
  },
  {
   "cell_type": "code",
   "execution_count": null,
   "metadata": {},
   "outputs": [],
   "source": [
    "# Best way of using arange (vectorization)\n",
    "%timeit np.arange(n) **2"
   ]
  },
  {
   "cell_type": "markdown",
   "metadata": {},
   "source": [
    "### <font color=\"blue\"> Exercise</font>\n",
    "\n",
    "Write a function that:\n",
    "* Takes are argument two positive integers `n` amd `m`\n",
    "* Returns two Numpy arrays:\n",
    "   - An array of `n` uniformly spaced elements from 1 to 10^m.\n",
    "   - An array of `n` elements logarithmically spaced from 1 to 10^m."
   ]
  },
  {
   "cell_type": "markdown",
   "metadata": {},
   "source": [
    "* You can also use special library functions to create arrays. \n",
    "* For example, to create an array filled with random values between 0 and 1, use `random` function. \n",
    "* This is particularly useful for problems where you need a random state to get started."
   ]
  },
  {
   "cell_type": "code",
   "execution_count": null,
   "metadata": {},
   "outputs": [],
   "source": [
    "# Random numbers between [0,1) of shape 2,2\n",
    "print(np.random.rand(2,2))"
   ]
  },
  {
   "cell_type": "code",
   "execution_count": null,
   "metadata": {},
   "outputs": [],
   "source": [
    "# Normal distribution with mean=0 and variance=1 of shape 2,2\n",
    "print(np.random.randn(2,2))"
   ]
  },
  {
   "cell_type": "code",
   "execution_count": null,
   "metadata": {},
   "outputs": [],
   "source": [
    "# Random integers between [0, 10) of shape 2,2\n",
    "print(np.random.randint(0, 10, size=[2,2]))"
   ]
  },
  {
   "cell_type": "code",
   "execution_count": null,
   "metadata": {},
   "outputs": [],
   "source": [
    "# Random numbers between [0,1) of shape 2,2\n",
    "print(np.random.random(size=[2,2]))"
   ]
  },
  {
   "cell_type": "code",
   "execution_count": null,
   "metadata": {},
   "outputs": [],
   "source": [
    "# Pick 10 items from a given list, with equal probability\n",
    "print(np.random.choice(['a', 'e', 'i', 'o', 'u'], size=10))  "
   ]
  },
  {
   "cell_type": "code",
   "execution_count": null,
   "metadata": {},
   "outputs": [],
   "source": [
    "# Pick 10 items from a given list with a predefined probability 'p'\n",
    "print(np.random.choice(['a', 'e', 'i', 'o', 'u'], \n",
    "                       size=10, \n",
    "                       p=[0.3, .1, 0.1, 0.4, 0.1]))  # picks more o's"
   ]
  },
  {
   "cell_type": "code",
   "execution_count": null,
   "metadata": {},
   "outputs": [],
   "source": [
    "# Create random integers of size 10 between [0,10)\n",
    "np.random.seed(100)\n",
    "arr_rand = np.random.randint(0, 10, size=10)\n",
    "print(arr_rand)\n",
    "\n",
    "# Get the unique items and their counts\n",
    "uniqs, counts = np.unique(arr_rand, return_counts=True)\n",
    "print(\"Unique items : \", uniqs)\n",
    "print(\"Counts       : \", counts)"
   ]
  },
  {
   "cell_type": "markdown",
   "metadata": {},
   "source": [
    "- `np.tile`: repeats a whole list or array n times. \n",
    "- `np.repeat`: repeats each item n times."
   ]
  },
  {
   "cell_type": "code",
   "execution_count": null,
   "metadata": {},
   "outputs": [],
   "source": [
    "a = np.array([1,2,3]) \n",
    "\n",
    "# Repeat whole of 'a' two times\n",
    "print('Tile:   ', np.tile(a, 2))\n",
    "\n",
    "# Repeat each element of 'a' two times\n",
    "print('Repeat: ', np.repeat(a, 2))"
   ]
  },
  {
   "cell_type": "markdown",
   "metadata": {},
   "source": [
    "* Creating and populating a Numpy array is the first step to using Numpy to perform fast numeric array computations. \n",
    "* Armed with different tools for creating arrays, you are now well set to perform basic array operations."
   ]
  },
  {
   "cell_type": "markdown",
   "metadata": {},
   "source": [
    "### <font color=\"blue\"> Exercise</font>\n",
    "\n",
    "Write a function that takes as argument a Numpy array and prints the entries that appears more than once."
   ]
  },
  {
   "cell_type": "markdown",
   "metadata": {},
   "source": [
    "### <font color='red'>Indexing with other arrays</font>"
   ]
  },
  {
   "cell_type": "markdown",
   "metadata": {},
   "source": [
    "* Above we saw how to index arrays with single numbers and slices, just like Python lists. \n",
    "* Arrays allow for a more sophisticated kind of indexing which is very powerful. \n",
    "* You can index an array with another array, and in particular with an array of boolean values. \n",
    "* This is particluarly useful to extract information from an array that matches a certain condition.\n",
    "\n",
    "\n",
    "Consider for example that in the array `uni_dist` we want to replace all values above 0 with the value 10. We can do so by first finding the mask that indicates where this condition is true or false:"
   ]
  },
  {
   "cell_type": "code",
   "execution_count": null,
   "metadata": {},
   "outputs": [],
   "source": [
    "# Construct a random number generator.\n",
    "# Seed value, do not have to specify, but useful for reproducibility\n",
    "rng = np.random.RandomState(0)  "
   ]
  },
  {
   "cell_type": "code",
   "execution_count": null,
   "metadata": {},
   "outputs": [],
   "source": [
    "my_size = 5\n",
    "# Draw random samples from a normal (Gaussian) distribution.\n",
    "#     loc: Mean of the distribution.\n",
    "#   scale: Standard deviation of the distribution.\n",
    "#    size: Number of samples\n",
    "gau_dist = rng.normal(loc=0, scale=1, size=my_size)"
   ]
  },
  {
   "cell_type": "code",
   "execution_count": null,
   "metadata": {},
   "outputs": [],
   "source": [
    "# 5 random numbers, picked from a uniform distribution between -10 and 10\n",
    "uni_dist = rng.uniform(-10, 10, size=my_size)  \n",
    "print(uni)"
   ]
  },
  {
   "cell_type": "code",
   "execution_count": null,
   "metadata": {},
   "outputs": [],
   "source": [
    "# Create a mask of uni indices corresponding to values that are positive\n",
    "mask = uni_dist > 0\n",
    "mask"
   ]
  },
  {
   "cell_type": "markdown",
   "metadata": {},
   "source": [
    "Now that we have this mask, we can use it to either read those values or to reset them to 0:"
   ]
  },
  {
   "cell_type": "code",
   "execution_count": null,
   "metadata": {},
   "outputs": [],
   "source": [
    "print('Array:', uni_dist)\n",
    "print('Masked array:', uni_dist[mask])"
   ]
  },
  {
   "cell_type": "code",
   "execution_count": null,
   "metadata": {},
   "outputs": [],
   "source": [
    "uni_dist[mask] = 10\n",
    "print(\"Modified Array:\", uni_dist)"
   ]
  },
  {
   "cell_type": "markdown",
   "metadata": {},
   "source": [
    "### <font color='red'>Changing Array Dimension</font>\n",
    "- `reshape` changes the arrangement of items so that shape of the array changes while maintaining the same number of dimensions.\n",
    "- `flatten` converts a multi-dimensional array to a flat 1d array. And not any other shape."
   ]
  },
  {
   "cell_type": "code",
   "execution_count": null,
   "metadata": {},
   "outputs": [],
   "source": [
    "a = np.array([0, 1.2, 4, -9.1, 5, 8])\n",
    "print(\"Initial shape: \", a.shape)"
   ]
  },
  {
   "cell_type": "code",
   "execution_count": null,
   "metadata": {},
   "outputs": [],
   "source": [
    "# turn a into a 2x3 matrix\n",
    "a.shape = (2,3) \n",
    "print(a.size)\n",
    "print(\"First shape change: \", a.shape)"
   ]
  },
  {
   "cell_type": "code",
   "execution_count": null,
   "metadata": {},
   "outputs": [],
   "source": [
    "# turn a into a vector of length 6 again\n",
    "a.shape = (a.size,) \n",
    "print(\"Second shape change: \", a.shape)"
   ]
  },
  {
   "cell_type": "code",
   "execution_count": null,
   "metadata": {},
   "outputs": [],
   "source": [
    "# same effect as setting a.shape\n",
    "a = a.reshape(2,3) \n",
    "print(\"Third shape change: \", a.shape)"
   ]
  },
  {
   "cell_type": "markdown",
   "metadata": {},
   "source": [
    "There are 2 popular ways to implement flattening:\n",
    "\n",
    "- `flatten()`: \n",
    "- `ravel()`: the new array created is actually a reference to the parent array. Any changes to the new array will affect the parent as well. But is memory efficient since it does not create a copy."
   ]
  },
  {
   "cell_type": "code",
   "execution_count": null,
   "metadata": {},
   "outputs": [],
   "source": [
    "# flatten\n",
    "b = a.flatten()\n",
    "print(\"Flattened array: \", b)"
   ]
  },
  {
   "cell_type": "code",
   "execution_count": null,
   "metadata": {},
   "outputs": [],
   "source": [
    "# Changing the flattened array does not change parent \n",
    "b[0] = 100  # changing b1 does not affect the orinal array\n",
    "print(a)"
   ]
  },
  {
   "cell_type": "code",
   "execution_count": null,
   "metadata": {},
   "outputs": [],
   "source": [
    "# Changing the raveled array changes the parent also.\n",
    "c = a.ravel()  \n",
    "c[0] = 101  # changing c changes a also\n",
    "print(a)"
   ]
  },
  {
   "cell_type": "markdown",
   "metadata": {},
   "source": [
    "### <font color=\"blue\"> Exercise</font>\n",
    "Reshape the array below into a 8x9 array."
   ]
  },
  {
   "cell_type": "code",
   "execution_count": null,
   "metadata": {},
   "outputs": [],
   "source": [
    "my_array = np.linspace(0, 50, 72)"
   ]
  },
  {
   "cell_type": "markdown",
   "metadata": {},
   "source": [
    "### <font color='red'>Representing Missing Values and Infinite</font>\n",
    "- Missing values can be represented using `np.nan` object, while `np.inf` represents infinite."
   ]
  },
  {
   "cell_type": "code",
   "execution_count": null,
   "metadata": {},
   "outputs": [],
   "source": [
    "a = np.array([0, 1.2, 4, -9.1, 5, 8]).reshape(2,3)\n",
    "# Insert a nan and an inf\n",
    "a[1,1] = np.nan  # not a number\n",
    "a[1,2] = np.inf  # infinite\n",
    "print(a)"
   ]
  },
  {
   "cell_type": "code",
   "execution_count": null,
   "metadata": {},
   "outputs": [],
   "source": [
    "# Replace nan and inf with -1. Don't use arr2 == np.nan\n",
    "missing_bool = np.isnan(a) | np.isinf(a)\n",
    "print(missing_bool)\n",
    "a[missing_bool] = -1  \n",
    "print(a)"
   ]
  },
  {
   "cell_type": "markdown",
   "metadata": {},
   "source": [
    "### <font color=\"blue\"> Exercise</font>\n",
    "\n",
    "Write a function that:\n",
    "- Takes an arbitrary array with few elements having values -999.0\n",
    "- Returns a new array where -999.0 are replaced by Numpy NaN."
   ]
  },
  {
   "cell_type": "markdown",
   "metadata": {},
   "source": [
    "### <font color='red'>Array Initialization from a Python Function</font>"
   ]
  },
  {
   "cell_type": "code",
   "execution_count": null,
   "metadata": {},
   "outputs": [],
   "source": [
    "def my_func(i, j):\n",
    "    \"\"\"\n",
    "      Function that takes as arguments two integers\n",
    "      and returns a number.\n",
    "    \"\"\"\n",
    "    return (i+1)*(j+4-i)"
   ]
  },
  {
   "cell_type": "code",
   "execution_count": null,
   "metadata": {},
   "outputs": [],
   "source": [
    "# Make 3x6 array where a[i,j] = my_func(i,j):\n",
    "a = np.fromfunction(my_func, (3,6))\n",
    "print(a)"
   ]
  },
  {
   "cell_type": "markdown",
   "metadata": {},
   "source": [
    "### <font color=\"blue\"> Exercise</font>\n",
    "Use the array initialization from a function method to create a 5x5 indentity matrix."
   ]
  },
  {
   "cell_type": "markdown",
   "metadata": {},
   "source": [
    "### <font color='red'>Array Inspection and Indexing</font>\n",
    "\n",
    "We want to know:\n",
    "* If it is a 1D or a 2D array or more. (`ndim`)\n",
    "* How many items are present in each dimension (`shape`)\n",
    "* What is its datatype (`dtype`)\n",
    "* What is the total number of items in it (`size`)\n",
    "* Samples of first few items in the array (through indexing)"
   ]
  },
  {
   "cell_type": "code",
   "execution_count": null,
   "metadata": {},
   "outputs": [],
   "source": [
    "a = np.array([0, 1.2, 4, -9.1, 5, 8]).reshape(2,3)\n",
    "\n",
    "# shape\n",
    "print('Shape: ', a.shape)\n",
    "\n",
    "# dtype\n",
    "print('Datatype: ', a.dtype)\n",
    "\n",
    "# size\n",
    "print('Size: ', a.size)\n",
    "\n",
    "# ndim\n",
    "print('Num Dimensions: ', a.ndim)"
   ]
  },
  {
   "cell_type": "code",
   "execution_count": null,
   "metadata": {},
   "outputs": [],
   "source": [
    "a = np.linspace(-1, 1, 6)\n",
    "a[2:4] = -1        # set a[2] and a[3] equal to -1\n",
    "a[-1]  = a[0]      # set last element equal to first one\n",
    "a[:]   = 0         # set all elements of a equal to 0\n",
    "a.fill(0)          # set all elements of a equal to 0\n",
    "\n",
    "i = 1\n",
    "j = 2\n",
    "k = 2\n",
    "a.shape = (2,3)    # turn a into a 2x3 matrix\n",
    "print(a[0,1])      # print element (0,1)\n",
    "a[i,j] = 10        # assignment to element (i,j)\n",
    "a[i][j] = 10       # equivalent syntax (slower)\n",
    "print(a[:,k])      # print column with index k\n",
    "print(a[1,:])      # print second row\n",
    "a[:,:] = 0         # set all elements of a equal to 0"
   ]
  },
  {
   "cell_type": "code",
   "execution_count": null,
   "metadata": {},
   "outputs": [],
   "source": [
    "# Reshape an array\n",
    "a = np.linspace(0, 29, 30)\n",
    "a.shape = (5,6)\n",
    "print(a)"
   ]
  },
  {
   "cell_type": "code",
   "execution_count": null,
   "metadata": {},
   "outputs": [],
   "source": [
    "# a[i,j] for i=1,2 and j=0,2,4\n",
    "print(a[1:3,:-1:2])   "
   ]
  },
  {
   "cell_type": "code",
   "execution_count": null,
   "metadata": {},
   "outputs": [],
   "source": [
    "# a[i,j] for i=0,3 and j=2,4\n",
    "print(a[::3,2:-1:2])   "
   ]
  },
  {
   "cell_type": "markdown",
   "metadata": {},
   "source": [
    "### <font color='red'>Array Slicing</font>"
   ]
  },
  {
   "cell_type": "markdown",
   "metadata": {},
   "source": [
    "* Slicing is specified using the colon operator `:` with a `from` and `to` index before and after the column respectively. \n",
    "* The slice extends from the `from` index and ends one item before the `to` index."
   ]
  },
  {
   "cell_type": "code",
   "execution_count": null,
   "metadata": {},
   "outputs": [],
   "source": [
    "from IPython.core.display import Image \n",
    "Image(filename='ArraySlicing.png') "
   ]
  },
  {
   "cell_type": "markdown",
   "metadata": {},
   "source": [
    "### Slice and Copy\n",
    "\n",
    "Slices Refer the Array Data\n",
    "* With `a` as list, `a[:]` makes a copy of the data\t\n",
    "* With `a` as array, `a[:]` is a reference to the data"
   ]
  },
  {
   "cell_type": "code",
   "execution_count": null,
   "metadata": {},
   "outputs": [],
   "source": [
    "a = np.linspace(0, 29, 30)\n",
    "a.shape = (5,6)\n",
    "print(a)\n",
    "\n",
    "b = a[1,:]      # extract 2nd column of a\n",
    "print(a[1,1])\n",
    "b[1] = 2\n",
    "print(a[1,1])"
   ]
  },
  {
   "cell_type": "code",
   "execution_count": null,
   "metadata": {},
   "outputs": [],
   "source": [
    "# Take a copy to avoid referencing via slices:\n",
    "b = a[1,:].copy()\n",
    "print(a[1,1])\n",
    "b[1] = 7777     # b and a are two different arrays now\n",
    "print(a[1,1])"
   ]
  },
  {
   "cell_type": "markdown",
   "metadata": {},
   "source": [
    "### <font color=\"blue\"> Exercise</font>\n",
    "\n",
    "Consider the array:\n",
    "\n",
    "    my_array = np.arange(64).reshape(8,8)\n",
    "    \n",
    "Use array slicing to extract only entries with even values."
   ]
  },
  {
   "cell_type": "markdown",
   "metadata": {},
   "source": [
    "### <font color='red'>Array Computations</font>"
   ]
  },
  {
   "cell_type": "code",
   "execution_count": null,
   "metadata": {},
   "outputs": [],
   "source": [
    "b = 3*a - 1    # a is array, b becomes array"
   ]
  },
  {
   "cell_type": "markdown",
   "metadata": {},
   "source": [
    "The above operation generates a temporary array:\n",
    "\n",
    "* **Step 1:** tb = 3*a\n",
    "* **Step 2:** b = tb - 1\n",
    "\n",
    "**As far as possible, we want to avoid the creation of temporary arrays to limit the memory usage and to decrease the computational time associated with with array computations.**"
   ]
  },
  {
   "cell_type": "code",
   "execution_count": null,
   "metadata": {},
   "outputs": [],
   "source": [
    "from IPython.core.display import Image \n",
    "Image(filename='Broadcasting.png') "
   ]
  },
  {
   "cell_type": "markdown",
   "metadata": {},
   "source": [
    "### <font color='red'>In-Place Array Arithmetics</font>\n",
    "* Do not involve the creation of temporary arrays."
   ]
  },
  {
   "cell_type": "code",
   "execution_count": null,
   "metadata": {},
   "outputs": [],
   "source": [
    "b = a\n",
    "b *= 3  # or multiply(b, 3, b)\n",
    "b -= 1  # or subtract(b, 1, b)"
   ]
  },
  {
   "cell_type": "raw",
   "metadata": {},
   "source": [
    "In-place operations:\n",
    "    \n",
    "   a *= 3.0     # multiply a's elements by 3\n",
    "   a -= 1.0     # subtract 1 from each element\n",
    "   a /= 3.0     # divide each element by 3\n",
    "   a += 1.0     # add 1 to each element\n",
    "   a **= 2.0    # square all elements"
   ]
  },
  {
   "cell_type": "markdown",
   "metadata": {},
   "source": [
    "#### Example"
   ]
  },
  {
   "cell_type": "code",
   "execution_count": null,
   "metadata": {},
   "outputs": [],
   "source": [
    "import numpy as np\n",
    "\n",
    "def regular_ops(a):\n",
    "    a = 0.0*a\n",
    "\n",
    "def inplace_ops(a):\n",
    "    a *= 0.0\n",
    "    \n",
    "n = 100000000\n",
    "a = np.zeros(n)"
   ]
  },
  {
   "cell_type": "code",
   "execution_count": null,
   "metadata": {},
   "outputs": [],
   "source": [
    "timeit regular_ops(a)"
   ]
  },
  {
   "cell_type": "code",
   "execution_count": null,
   "metadata": {},
   "outputs": [],
   "source": [
    "timeit inplace_ops(a)"
   ]
  },
  {
   "cell_type": "markdown",
   "metadata": {},
   "source": [
    "### <font color='red'>Math Functions and Array Arguments</font>"
   ]
  },
  {
   "cell_type": "code",
   "execution_count": null,
   "metadata": {},
   "outputs": [],
   "source": [
    "b = np.linspace(1.0, 15.5, 30)"
   ]
  },
  {
   "cell_type": "code",
   "execution_count": null,
   "metadata": {},
   "outputs": [],
   "source": [
    "c = np.sin(b)    \n",
    "c = np.arcsin(c) \n",
    "c = np.sinh(b)"
   ]
  },
  {
   "cell_type": "code",
   "execution_count": null,
   "metadata": {},
   "outputs": [],
   "source": [
    "c = b**2.5  # power function\n",
    "c = np.log(b)\n",
    "c = np.exp(b)\n",
    "c = np.sqrt(b)"
   ]
  },
  {
   "cell_type": "code",
   "execution_count": null,
   "metadata": {},
   "outputs": [],
   "source": [
    "b.clip(min=3, max=12)  \t# clip elements\n",
    "print(\"b:      \", b)\n",
    "print(\"Mean:   \", b.mean(), np.mean(b))\n",
    "print(\"StDev:  \", b.std(), np.std(b))\n",
    "print(\"Median: \", np.median(b))"
   ]
  },
  {
   "cell_type": "code",
   "execution_count": null,
   "metadata": {},
   "outputs": [],
   "source": [
    "print(\"Trapezoidal integration: \", np.trapz(b))\n",
    "print(\"finite differences (da/dx): \", np.diff(b))"
   ]
  },
  {
   "cell_type": "markdown",
   "metadata": {},
   "source": [
    "### <font color='red'>NumPy Matrices</font>"
   ]
  },
  {
   "cell_type": "code",
   "execution_count": null,
   "metadata": {},
   "outputs": [],
   "source": [
    "x1 = np.array([1, 2, 3], float)\n",
    "x2 = np.matrix(x)               # or just mat(x)\n",
    "print(x2)                       # row vector"
   ]
  },
  {
   "cell_type": "code",
   "execution_count": null,
   "metadata": {},
   "outputs": [],
   "source": [
    "x3 = mat(x).transpose()          # column vector\n",
    "print(x3)\n",
    "type(x3)"
   ]
  },
  {
   "cell_type": "code",
   "execution_count": null,
   "metadata": {},
   "outputs": [],
   "source": [
    "A = np.eye(10)                    # identity matrix\n",
    "print(A)\n",
    "B = np.mat(A)                    # turn array to matrix\n",
    "print(B)\n",
    "y2 = x2*B                     # vector-matrix product\n",
    "print(y2)\n",
    "y3 = B*x3                     # matrix-vector product\n",
    "print(y3)"
   ]
  },
  {
   "cell_type": "code",
   "execution_count": null,
   "metadata": {},
   "outputs": [],
   "source": [
    "a = np.array([[1,2],[3,4]])\n",
    "print(\"a = \", a)\n",
    "m = np.mat(a)\n",
    "print(\"m = \", m)\n",
    "print(\"a[0] = \", a[0])\n",
    "print(\"m[0] = \", m[0])\n",
    "print(\"a*a  = \", a*a)\n",
    "print(\"m*m  = \", m*m)\n",
    "print(\"dot  = \", dot(a, a))"
   ]
  },
  {
   "cell_type": "markdown",
   "metadata": {},
   "source": [
    "### <font color='red'> Universal Functions and Loops</font>"
   ]
  },
  {
   "cell_type": "markdown",
   "metadata": {},
   "source": [
    "* Universal functions run much faster than for loops, which should be avoided whenever possible"
   ]
  },
  {
   "cell_type": "code",
   "execution_count": null,
   "metadata": {},
   "outputs": [],
   "source": [
    "def mat_mult_intrinsic(a,b):\n",
    "    return a * b\n",
    "\n",
    "def mat_mult_loops(a,b):\n",
    "    c = np.empty(a.shape)\n",
    "    for i in range(a.shape[0]):\n",
    "        for j in range(a.shape[1]):\n",
    "            c[i,j] = a[i,j] * b[i,j]\n",
    "    return c"
   ]
  },
  {
   "cell_type": "code",
   "execution_count": null,
   "metadata": {},
   "outputs": [],
   "source": [
    "N = 800\n",
    "A = np.random.random((N,N))\n",
    "B = np.random.random((N,N))"
   ]
  },
  {
   "cell_type": "code",
   "execution_count": null,
   "metadata": {},
   "outputs": [],
   "source": [
    "timeit mat_mult_intrinsic(A,B)"
   ]
  },
  {
   "cell_type": "code",
   "execution_count": null,
   "metadata": {},
   "outputs": [],
   "source": [
    "timeit mat_mult_loops(A,B)"
   ]
  },
  {
   "cell_type": "markdown",
   "metadata": {},
   "source": [
    "# <font color='red'>Reading and writing arrays to disk </font>"
   ]
  },
  {
   "cell_type": "markdown",
   "metadata": {},
   "source": [
    "Numpy lets you read and write arrays into files in a number of ways. In order to use these tools well, it is critical to understand the difference between a text and a binary file containing numerical data. \n",
    "In a text file, the number\n",
    "&pi;\n",
    "could be written as \"3.141592653589793\", for example: a string of digits that a human can read, with in this case 15 decimal digits. In contrast, that same number written to a binary file would be encoded as 8 characters (bytes) that are not readable by a human but which contain the exact same data that the variable pi had in the computer's memory. <P>\n",
    "\n",
    "The tradeoffs between the two modes are thus:\n",
    "<UL>\n",
    "<LI> <B>Text mode</B>: occupies more space, precision can be lost (if not all digits are written to disk), but is readable and editable by hand with a text editor. Can only be used for one- and two-dimensional arrays.\n",
    "<LI> <B>Binary mode</B>: compact and exact representation of the data in memory, can't be read or edited by hand. Arrays of any size and dimensionality can be saved and read without loss of information.\n",
    "</UL>\n",
    "\n",
    "First, let's see how to read and write arrays in text mode. The np.savetxt function saves an array to a text file, with options to control the precision, separators and even adding a header:"
   ]
  },
  {
   "cell_type": "code",
   "execution_count": null,
   "metadata": {},
   "outputs": [],
   "source": [
    "arr = np.arange(10).reshape(2, 5)\n",
    "print(arr)                           \n",
    "np.savetxt('test.out', arr)"
   ]
  },
  {
   "cell_type": "code",
   "execution_count": null,
   "metadata": {},
   "outputs": [],
   "source": [
    "!cat test.out"
   ]
  },
  {
   "cell_type": "markdown",
   "metadata": {},
   "source": [
    "And this same type of file can then be read with the matching `np.loadtxt` function:"
   ]
  },
  {
   "cell_type": "code",
   "execution_count": null,
   "metadata": {},
   "outputs": [],
   "source": [
    "arr2 = np.loadtxt('test.out')\n",
    "print(arr2)"
   ]
  },
  {
   "cell_type": "markdown",
   "metadata": {},
   "source": [
    "You can also use the function `np.genfromtxt` that deals with missing values"
   ]
  },
  {
   "cell_type": "code",
   "execution_count": null,
   "metadata": {},
   "outputs": [],
   "source": [
    "arr3 = np.genfromtxt('test.out', \n",
    "                     missing_values='0.000000000000000000e+00', \n",
    "                     usemask=True)\n",
    "print(arr3)"
   ]
  },
  {
   "cell_type": "markdown",
   "metadata": {},
   "source": [
    "### <font color=\"blue\"> Exercise</font>\n",
    "\n",
    "Check the Global Land-Ocean Temperature Index webpage:\n",
    "\n",
    "<a href=\"http://data.giss.nasa.gov/gistemp/graphs_v3/Fig.A2.txt\"> http://data.giss.nasa.gov/gistemp/graphs_v3/Fig.A2.txt</a>\n",
    "\n",
    "We want to use Numpy and Matplotlib to write a code that reads the above dataset and reproduces the <a href=\"https://scied.ucar.edu/global-annual-mean-surface-temperature-change\">figure</a>."
   ]
  },
  {
   "cell_type": "markdown",
   "metadata": {},
   "source": [
    "For binary data, Numpy provides the two routines:\n",
    "\n",
    "   + `np.save`: saves a single array to a file with `.npy` extension\n",
    "   + `np.savez`: can be used to save a group of arrays into a single file with `.npz` extension. \n",
    "   \n",
    "The files created with these routines can then be read with the `np.load` function."
   ]
  },
  {
   "cell_type": "code",
   "execution_count": null,
   "metadata": {},
   "outputs": [],
   "source": [
    "np.save('test.npy', arr)\n",
    "# Now we read this back\n",
    "arr_loaded = np.load('test.npy')\n",
    "\n",
    "print(arr)\n",
    "print(arr_loaded)\n",
    "\n",
    "print(arr_loaded.dtype)\n",
    "\n",
    "# Let's see if any element is non-zero in the difference.\n",
    "# A value of True would be a problem.\n",
    "print ('Any differences?', np.any(arr - arr_loaded))"
   ]
  },
  {
   "cell_type": "markdown",
   "metadata": {},
   "source": [
    "Now let us see how the `np.savez_compressed` function works."
   ]
  },
  {
   "cell_type": "code",
   "execution_count": null,
   "metadata": {},
   "outputs": [],
   "source": [
    "np.savez_compressed('test.npz', first=arr, second=arr2)\n",
    "arrays = np.load('test.npz')\n",
    "arrays.files"
   ]
  },
  {
   "cell_type": "markdown",
   "metadata": {},
   "source": [
    "The object returned by `np.load` from an `.npz` file works like a dictionary:"
   ]
  },
  {
   "cell_type": "code",
   "execution_count": null,
   "metadata": {},
   "outputs": [],
   "source": [
    "a=arrays['first']\n",
    "b=arrays['second']\n",
    "print('a = ', a)\n",
    "print('b = ', b)"
   ]
  },
  {
   "cell_type": "markdown",
   "metadata": {},
   "source": [
    "* This `.npz` format is a very convenient way to package compactly and without loss of information, into a single file, a group of related arrays that pertain to a specific problem. \n",
    "* At some point, however, the complexity of your dataset may be such that the optimal approach is to use one of the standard formats in scientific data processing that have been designed to handle complex datasets, such as NetCDF or HDF5."
   ]
  }
 ],
 "metadata": {
  "anaconda-cloud": {},
  "kernelspec": {
   "display_name": "Python 3",
   "language": "python",
   "name": "python3"
  },
  "language_info": {
   "codemirror_mode": {
    "name": "ipython",
    "version": 3
   },
   "file_extension": ".py",
   "mimetype": "text/x-python",
   "name": "python",
   "nbconvert_exporter": "python",
   "pygments_lexer": "ipython3",
   "version": "3.7.3"
  }
 },
 "nbformat": 4,
 "nbformat_minor": 1
}
